{
 "cells": [
  {
   "cell_type": "code",
   "execution_count": 29,
   "metadata": {},
   "outputs": [],
   "source": [
    "import time\n",
    "from selenium import webdriver\n",
    "import pandas as pd\n",
    "import requests\n",
    "from bs4 import BeautifulSoup\n",
    "from datetime import datetime"
   ]
  },
  {
   "cell_type": "code",
   "execution_count": 30,
   "metadata": {},
   "outputs": [],
   "source": [
    "date_today = datetime.today().strftime('%m-%d-%Y')\n",
    "\n",
    "\n",
    "# d={\n",
    "#     'date': [date_today, date_today, date_today],\n",
    "#     'insta_name': ['mcstagner', 'capture_the_delta', 'kvphotog'],\n",
    "#     'follower_count': ['6,379', '4,450', '8,621']\n",
    "# }\n",
    "\n",
    "# instagram=pd.DataFrame(data=d)\n",
    "\n",
    "\n",
    "# instagram.to_csv('instagram.csv', index=False)"
   ]
  },
  {
   "cell_type": "code",
   "execution_count": 31,
   "metadata": {},
   "outputs": [
    {
     "data": {
      "text/html": [
       "<div>\n",
       "<style scoped>\n",
       "    .dataframe tbody tr th:only-of-type {\n",
       "        vertical-align: middle;\n",
       "    }\n",
       "\n",
       "    .dataframe tbody tr th {\n",
       "        vertical-align: top;\n",
       "    }\n",
       "\n",
       "    .dataframe thead th {\n",
       "        text-align: right;\n",
       "    }\n",
       "</style>\n",
       "<table border=\"1\" class=\"dataframe\">\n",
       "  <thead>\n",
       "    <tr style=\"text-align: right;\">\n",
       "      <th></th>\n",
       "      <th>date</th>\n",
       "      <th>follower_count</th>\n",
       "      <th>insta_name</th>\n",
       "    </tr>\n",
       "  </thead>\n",
       "  <tbody>\n",
       "    <tr>\n",
       "      <th>0</th>\n",
       "      <td>11/29/2018</td>\n",
       "      <td>8,624</td>\n",
       "      <td>kvphotog</td>\n",
       "    </tr>\n",
       "    <tr>\n",
       "      <th>1</th>\n",
       "      <td>11/29/2018</td>\n",
       "      <td>4,450</td>\n",
       "      <td>capture_the_delta</td>\n",
       "    </tr>\n",
       "    <tr>\n",
       "      <th>2</th>\n",
       "      <td>11/29/2018</td>\n",
       "      <td>6,381</td>\n",
       "      <td>mcstagner</td>\n",
       "    </tr>\n",
       "    <tr>\n",
       "      <th>3</th>\n",
       "      <td>11/28/2018</td>\n",
       "      <td>6,379</td>\n",
       "      <td>mcstagner</td>\n",
       "    </tr>\n",
       "    <tr>\n",
       "      <th>4</th>\n",
       "      <td>11/28/2018</td>\n",
       "      <td>4,450</td>\n",
       "      <td>capture_the_delta</td>\n",
       "    </tr>\n",
       "    <tr>\n",
       "      <th>5</th>\n",
       "      <td>11/28/2018</td>\n",
       "      <td>8,621</td>\n",
       "      <td>kvphotog</td>\n",
       "    </tr>\n",
       "  </tbody>\n",
       "</table>\n",
       "</div>"
      ],
      "text/plain": [
       "         date follower_count         insta_name\n",
       "0  11/29/2018          8,624           kvphotog\n",
       "1  11/29/2018          4,450  capture_the_delta\n",
       "2  11/29/2018          6,381          mcstagner\n",
       "3  11/28/2018          6,379          mcstagner\n",
       "4  11/28/2018          4,450  capture_the_delta\n",
       "5  11/28/2018          8,621           kvphotog"
      ]
     },
     "execution_count": 31,
     "metadata": {},
     "output_type": "execute_result"
    }
   ],
   "source": [
    "instagram=pd.read_csv('instagram.csv')\n",
    "instagram.loc[:, ~instagram.columns.str.contains('^Unnamed')]"
   ]
  },
  {
   "cell_type": "code",
   "execution_count": 32,
   "metadata": {},
   "outputs": [
    {
     "name": "stderr",
     "output_type": "stream",
     "text": [
      "C:\\Users\\533854\\AppData\\Local\\Continuum\\anaconda3\\lib\\site-packages\\bs4\\__init__.py:181: UserWarning: No parser was explicitly specified, so I'm using the best available HTML parser for this system (\"lxml\"). This usually isn't a problem, but if you run this code on another system, or in a different virtual environment, it may use a different parser and behave differently.\n",
      "\n",
      "The code that caused this warning is on line 193 of the file C:\\Users\\533854\\AppData\\Local\\Continuum\\anaconda3\\lib\\runpy.py. To get rid of this warning, change code that looks like this:\n",
      "\n",
      " BeautifulSoup(YOUR_MARKUP})\n",
      "\n",
      "to this:\n",
      "\n",
      " BeautifulSoup(YOUR_MARKUP, \"lxml\")\n",
      "\n",
      "  markup_type=markup_type))\n",
      "C:\\Users\\533854\\AppData\\Local\\Continuum\\anaconda3\\lib\\site-packages\\ipykernel_launcher.py:13: FutureWarning: Sorting because non-concatenation axis is not aligned. A future version\n",
      "of pandas will change to not sort by default.\n",
      "\n",
      "To accept the future behavior, pass 'sort=True'.\n",
      "\n",
      "To retain the current behavior and silence the warning, pass sort=False\n",
      "\n",
      "  del sys.path[0]\n"
     ]
    }
   ],
   "source": [
    "url = 'https://www.instagram.com/mcstagner'\n",
    "r = requests.get(url)\n",
    "soup = BeautifulSoup(r.content)\n",
    "follower = soup.find('meta', {'name': 'description'})['content']\n",
    "count = follower.split('Followers')[0]\n",
    "#today_info=[date, insta_name, follower_count]\n",
    "d={\n",
    "   'date': [date_today],\n",
    "   'insta_name': ['mcstagner'],\n",
    "   'follower_count': [count]\n",
    "}\n",
    "today_info_df=pd.DataFrame(data=d)\n",
    "instagram=pd.concat([today_info_df, instagram])"
   ]
  },
  {
   "cell_type": "code",
   "execution_count": 33,
   "metadata": {},
   "outputs": [
    {
     "name": "stderr",
     "output_type": "stream",
     "text": [
      "C:\\Users\\533854\\AppData\\Local\\Continuum\\anaconda3\\lib\\site-packages\\bs4\\__init__.py:181: UserWarning: No parser was explicitly specified, so I'm using the best available HTML parser for this system (\"lxml\"). This usually isn't a problem, but if you run this code on another system, or in a different virtual environment, it may use a different parser and behave differently.\n",
      "\n",
      "The code that caused this warning is on line 193 of the file C:\\Users\\533854\\AppData\\Local\\Continuum\\anaconda3\\lib\\runpy.py. To get rid of this warning, change code that looks like this:\n",
      "\n",
      " BeautifulSoup(YOUR_MARKUP})\n",
      "\n",
      "to this:\n",
      "\n",
      " BeautifulSoup(YOUR_MARKUP, \"lxml\")\n",
      "\n",
      "  markup_type=markup_type))\n",
      "C:\\Users\\533854\\AppData\\Local\\Continuum\\anaconda3\\lib\\site-packages\\ipykernel_launcher.py:13: FutureWarning: Sorting because non-concatenation axis is not aligned. A future version\n",
      "of pandas will change to not sort by default.\n",
      "\n",
      "To accept the future behavior, pass 'sort=True'.\n",
      "\n",
      "To retain the current behavior and silence the warning, pass sort=False\n",
      "\n",
      "  del sys.path[0]\n"
     ]
    }
   ],
   "source": [
    "url = 'https://www.instagram.com/capture_the_delta'\n",
    "r = requests.get(url)\n",
    "soup = BeautifulSoup(r.content)\n",
    "follower = soup.find('meta', {'name': 'description'})['content']\n",
    "count = follower.split('Followers')[0]\n",
    "#today_info=[date, insta_name, follower_count]\n",
    "d={\n",
    "   'date': [date_today],\n",
    "   'insta_name': ['capture_the_delta'],\n",
    "   'follower_count': [count]\n",
    "}\n",
    "today_info_df=pd.DataFrame(data=d)\n",
    "instagram=pd.concat([today_info_df, instagram])"
   ]
  },
  {
   "cell_type": "code",
   "execution_count": 34,
   "metadata": {},
   "outputs": [
    {
     "name": "stderr",
     "output_type": "stream",
     "text": [
      "C:\\Users\\533854\\AppData\\Local\\Continuum\\anaconda3\\lib\\site-packages\\bs4\\__init__.py:181: UserWarning: No parser was explicitly specified, so I'm using the best available HTML parser for this system (\"lxml\"). This usually isn't a problem, but if you run this code on another system, or in a different virtual environment, it may use a different parser and behave differently.\n",
      "\n",
      "The code that caused this warning is on line 193 of the file C:\\Users\\533854\\AppData\\Local\\Continuum\\anaconda3\\lib\\runpy.py. To get rid of this warning, change code that looks like this:\n",
      "\n",
      " BeautifulSoup(YOUR_MARKUP})\n",
      "\n",
      "to this:\n",
      "\n",
      " BeautifulSoup(YOUR_MARKUP, \"lxml\")\n",
      "\n",
      "  markup_type=markup_type))\n",
      "C:\\Users\\533854\\AppData\\Local\\Continuum\\anaconda3\\lib\\site-packages\\ipykernel_launcher.py:13: FutureWarning: Sorting because non-concatenation axis is not aligned. A future version\n",
      "of pandas will change to not sort by default.\n",
      "\n",
      "To accept the future behavior, pass 'sort=True'.\n",
      "\n",
      "To retain the current behavior and silence the warning, pass sort=False\n",
      "\n",
      "  del sys.path[0]\n"
     ]
    }
   ],
   "source": [
    "url = 'https://www.instagram.com/kvphotog'\n",
    "r = requests.get(url)\n",
    "soup = BeautifulSoup(r.content)\n",
    "follower = soup.find('meta', {'name': 'description'})['content']\n",
    "count = follower.split('Followers')[0]\n",
    "#today_info=[date, insta_name, follower_count]\n",
    "d={\n",
    "   'date': [date_today],\n",
    "   'insta_name': ['kvphotog'],\n",
    "   'follower_count': [count]\n",
    "}\n",
    "today_info_df=pd.DataFrame(data=d)\n",
    "instagram=pd.concat([today_info_df, instagram])"
   ]
  },
  {
   "cell_type": "code",
   "execution_count": 35,
   "metadata": {},
   "outputs": [],
   "source": [
    "instagram.to_csv('instagram.csv', index=False)\n",
    "\n",
    "#instagram.drop(['Unnamed: 0', 'Unnamed: 0.1', 'Unnamed: 0.1.1', 'Unnamed: 0.1.1.1', 'Unnamed: 0.1.1.1.1'], axis=1)"
   ]
  },
  {
   "cell_type": "code",
   "execution_count": 36,
   "metadata": {},
   "outputs": [
    {
     "data": {
      "text/html": [
       "<div>\n",
       "<style scoped>\n",
       "    .dataframe tbody tr th:only-of-type {\n",
       "        vertical-align: middle;\n",
       "    }\n",
       "\n",
       "    .dataframe tbody tr th {\n",
       "        vertical-align: top;\n",
       "    }\n",
       "\n",
       "    .dataframe thead th {\n",
       "        text-align: right;\n",
       "    }\n",
       "</style>\n",
       "<table border=\"1\" class=\"dataframe\">\n",
       "  <thead>\n",
       "    <tr style=\"text-align: right;\">\n",
       "      <th></th>\n",
       "      <th>date</th>\n",
       "      <th>follower_count</th>\n",
       "      <th>insta_name</th>\n",
       "    </tr>\n",
       "  </thead>\n",
       "  <tbody>\n",
       "    <tr>\n",
       "      <th>0</th>\n",
       "      <td>11-29-2018</td>\n",
       "      <td>8,623</td>\n",
       "      <td>kvphotog</td>\n",
       "    </tr>\n",
       "    <tr>\n",
       "      <th>0</th>\n",
       "      <td>11-29-2018</td>\n",
       "      <td>4,449</td>\n",
       "      <td>capture_the_delta</td>\n",
       "    </tr>\n",
       "    <tr>\n",
       "      <th>0</th>\n",
       "      <td>11-29-2018</td>\n",
       "      <td>6,382</td>\n",
       "      <td>mcstagner</td>\n",
       "    </tr>\n",
       "    <tr>\n",
       "      <th>0</th>\n",
       "      <td>11/29/2018</td>\n",
       "      <td>8,624</td>\n",
       "      <td>kvphotog</td>\n",
       "    </tr>\n",
       "    <tr>\n",
       "      <th>1</th>\n",
       "      <td>11/29/2018</td>\n",
       "      <td>4,450</td>\n",
       "      <td>capture_the_delta</td>\n",
       "    </tr>\n",
       "    <tr>\n",
       "      <th>2</th>\n",
       "      <td>11/29/2018</td>\n",
       "      <td>6,381</td>\n",
       "      <td>mcstagner</td>\n",
       "    </tr>\n",
       "    <tr>\n",
       "      <th>3</th>\n",
       "      <td>11/28/2018</td>\n",
       "      <td>6,379</td>\n",
       "      <td>mcstagner</td>\n",
       "    </tr>\n",
       "    <tr>\n",
       "      <th>4</th>\n",
       "      <td>11/28/2018</td>\n",
       "      <td>4,450</td>\n",
       "      <td>capture_the_delta</td>\n",
       "    </tr>\n",
       "    <tr>\n",
       "      <th>5</th>\n",
       "      <td>11/28/2018</td>\n",
       "      <td>8,621</td>\n",
       "      <td>kvphotog</td>\n",
       "    </tr>\n",
       "  </tbody>\n",
       "</table>\n",
       "</div>"
      ],
      "text/plain": [
       "         date follower_count         insta_name\n",
       "0  11-29-2018         8,623            kvphotog\n",
       "0  11-29-2018         4,449   capture_the_delta\n",
       "0  11-29-2018         6,382           mcstagner\n",
       "0  11/29/2018          8,624           kvphotog\n",
       "1  11/29/2018          4,450  capture_the_delta\n",
       "2  11/29/2018          6,381          mcstagner\n",
       "3  11/28/2018          6,379          mcstagner\n",
       "4  11/28/2018          4,450  capture_the_delta\n",
       "5  11/28/2018          8,621           kvphotog"
      ]
     },
     "execution_count": 36,
     "metadata": {},
     "output_type": "execute_result"
    }
   ],
   "source": [
    "instagram\n"
   ]
  },
  {
   "cell_type": "code",
   "execution_count": null,
   "metadata": {},
   "outputs": [],
   "source": []
  }
 ],
 "metadata": {
  "kernelspec": {
   "display_name": "Python 3",
   "language": "python",
   "name": "python3"
  },
  "language_info": {
   "codemirror_mode": {
    "name": "ipython",
    "version": 3
   },
   "file_extension": ".py",
   "mimetype": "text/x-python",
   "name": "python",
   "nbconvert_exporter": "python",
   "pygments_lexer": "ipython3",
   "version": "3.6.5"
  }
 },
 "nbformat": 4,
 "nbformat_minor": 2
}
